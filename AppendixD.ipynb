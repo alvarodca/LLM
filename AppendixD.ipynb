{
  "cells": [
    {
      "cell_type": "markdown",
      "metadata": {
        "id": "view-in-github",
        "colab_type": "text"
      },
      "source": [
        "<a href=\"https://colab.research.google.com/github/alvarodca/LLM/blob/main/AppendixD.ipynb\" target=\"_parent\"><img src=\"https://colab.research.google.com/assets/colab-badge.svg\" alt=\"Open In Colab\"/></a>"
      ]
    },
    {
      "cell_type": "markdown",
      "metadata": {
        "id": "jQc-6No0GnSX"
      },
      "source": [
        "# **APPENDIX D**\n",
        "\n",
        "In this appendix, we enhance the training function for the pretraining and finetuning processes covered in chapters 5 to 7\n",
        "\n",
        "In particular, it covers learning rate warmup, cosine decay, and gradient clipping\n",
        "\n"
      ]
    },
    {
      "cell_type": "code",
      "execution_count": 1,
      "metadata": {
        "id": "0p3JUA3VGmTD"
      },
      "outputs": [],
      "source": [
        "import torch\n",
        "import torch.nn as nn"
      ]
    },
    {
      "cell_type": "code",
      "execution_count": 2,
      "metadata": {
        "id": "gQVwP9ePGzn5"
      },
      "outputs": [],
      "source": [
        "# Multi Head attention\n",
        "class MultiHeadAttention(nn.Module):\n",
        " def __init__(self, d_in, d_out,\n",
        "    context_length, dropout, num_heads, qkv_bias=False):\n",
        "    super().__init__()\n",
        "\n",
        "    assert (d_out % num_heads == 0), \\\n",
        "    \"d_out must be divisible by num_heads\" # We need dimensions to align as we may lose dimensions in the process if not.\n",
        "\n",
        "    self.d_out = d_out\n",
        "    self.num_heads = num_heads\n",
        "    self.head_dim = d_out // num_heads # Makes sure each attention head has equal dimensions\n",
        "\n",
        "    self.W_query = nn.Linear(d_in, d_out, bias=qkv_bias)\n",
        "    self.W_key = nn.Linear(d_in, d_out, bias=qkv_bias)\n",
        "    self.W_value = nn.Linear(d_in, d_out, bias=qkv_bias)\n",
        "    self.out_proj = nn.Linear(d_out, d_out) # Layer to combine outpute\n",
        "    self.dropout = nn.Dropout(dropout)\n",
        "\n",
        "    self.register_buffer(\n",
        "    \"mask\",\n",
        "    torch.triu(torch.ones(context_length, context_length),\n",
        "    diagonal=1)\n",
        "    )\n",
        "\n",
        "\n",
        " def forward(self, x):\n",
        "    b, num_tokens, d_in = x.shape # b <- batch size, num_tokens <- sequence length, d_in <- input embedding\n",
        "\n",
        "    # shape = [b,num_tokens, d_out] where d_out = num_heads * head_dim\n",
        "    keys = self.W_key(x)\n",
        "    queries = self.W_query(x)\n",
        "    values = self.W_value(x)\n",
        "\n",
        "    # Split the values into Heads, shape = [b, num_tokens, num_heads, head_dim]\n",
        "    keys = keys.view(b, num_tokens, self.num_heads, self.head_dim)\n",
        "    values = values.view(b, num_tokens, self.num_heads, self.head_dim)\n",
        "    queries = queries.view(\n",
        "    b, num_tokens, self.num_heads, self.head_dim\n",
        "    )\n",
        "\n",
        "    # As we are using nn.Linear we need to transpose our matrices\n",
        "    keys = keys.transpose(1, 2)\n",
        "    queries = queries.transpose(1, 2)\n",
        "    values = values.transpose(1, 2)\n",
        "\n",
        "    # Computes dot product for each head\n",
        "    attn_scores = queries @ keys.transpose(2, 3)\n",
        "\n",
        "    # Masking\n",
        "    mask_bool = self.mask.bool()[:num_tokens, :num_tokens]  # Mask fixed to token number\n",
        "    attn_scores.masked_fill_(mask_bool, -torch.inf) # Uses mask to fill attention scores\n",
        "\n",
        "    # Softmax + Dropout\n",
        "    attn_weights = torch.softmax(\n",
        "    attn_scores / keys.shape[-1]**0.5, dim=-1)\n",
        "    attn_weights = self.dropout(attn_weights)\n",
        "\n",
        "    # Context vector\n",
        "    context_vec = (attn_weights @ values).transpose(1, 2)\n",
        "\n",
        "    # Combine all heads\n",
        "    context_vec = context_vec.contiguous().view(\n",
        "    b, num_tokens, self.d_out\n",
        "    )\n",
        "    # Mix information to a single simple layer\n",
        "    context_vec = self.out_proj(context_vec)\n",
        "    return context_vec"
      ]
    },
    {
      "cell_type": "code",
      "source": [
        "# Text generator\n",
        "def generate_text_simple(model, idx,\n",
        "    max_new_tokens, context_size):\n",
        "    # Uses only the maximum amount of selected tokens\n",
        "    for _ in range(max_new_tokens):\n",
        "        idx_cond = idx[:, -context_size:] # Takes the selected tokens as input\n",
        "        with torch.no_grad(): # No gradient calculating (prediction)\n",
        "            logits = model(idx_cond) # Output prediction\n",
        "\n",
        "        logits = logits[:, -1, :] # Logits for the last token (predicting the last wrod)\n",
        "        probas = torch.softmax(logits, dim=-1) # Values to probabilities (softmax) not strictly necessary\n",
        "        idx_next = torch.argmax(probas, dim=-1, keepdim=True) # Selects the highest value\n",
        "        idx = torch.cat((idx, idx_next), dim=1) # Appends to the previous tokens\n",
        "    return idx\n",
        "\n",
        "# GELU\n",
        "class GELU(nn.Module):\n",
        " def __init__(self):\n",
        "    super().__init__()\n",
        "\n",
        " def forward(self, x):\n",
        "    return 0.5 * x * (1 + torch.tanh(\n",
        "    torch.sqrt(torch.tensor(2.0 / torch.pi)) *\n",
        "    (x + 0.044715 * torch.pow(x, 3))\n",
        "    ))\n",
        "\n",
        "# FEED FORWARD\n",
        "class FeedForward(nn.Module):\n",
        " def __init__(self, cfg):\n",
        "    super().__init__()\n",
        "    # Neural layers\n",
        "    self.layers = nn.Sequential(\n",
        "    nn.Linear(cfg[\"emb_dim\"], 4 * cfg[\"emb_dim\"]), # Increases embedding by 4\n",
        "    GELU(),\n",
        "    nn.Linear(4 * cfg[\"emb_dim\"], cfg[\"emb_dim\"]), # Decreases embedding by 4\n",
        "    )\n",
        " def forward(self, x):\n",
        "    return self.layers(x)\n",
        "\n",
        "# TRANSFORMER BLOCK\n",
        "class TransformerBlock(nn.Module):\n",
        " def __init__(self, cfg):\n",
        "    super().__init__()\n",
        "    \"\"\"Init method\n",
        "        d_in = input embedding size\n",
        "        d_out = output embedding size\n",
        "        context_length = max number of tokens in a sentence\n",
        "        num_heads = number of heads to use\n",
        "        dropout = droput rate\n",
        "        qkv_bias = whether to add bias\"\"\"\n",
        "    self.att = MultiHeadAttention(\n",
        "    d_in=cfg[\"emb_dim\"],\n",
        "    d_out=cfg[\"emb_dim\"],\n",
        "    context_length=cfg[\"context_length\"],\n",
        "    num_heads=cfg[\"n_heads\"],\n",
        "    dropout=cfg[\"drop_rate\"],\n",
        "    qkv_bias=cfg[\"qkv_bias\"])\n",
        "\n",
        "    # FeedForward structure\n",
        "    self.ff = FeedForward(cfg)\n",
        "\n",
        "    # Normalizes inputs before the different blocks <- PreLayerNorm\n",
        "    self.norm1 = LayerNorm(cfg[\"emb_dim\"])\n",
        "    self.norm2 = LayerNorm(cfg[\"emb_dim\"])\n",
        "\n",
        "    # Dropout layer\n",
        "    self.drop_shortcut = nn.Dropout(cfg[\"drop_rate\"])\n",
        "\n",
        " def forward(self, x): # Enables shortcut connections\n",
        "\n",
        "    # FIrst block of our previously shown picture\n",
        "    shortcut = x\n",
        "    x = self.norm1(x) # Normalize input\n",
        "    x = self.att(x) # Self-attention\n",
        "    x = self.drop_shortcut(x) # Dropout\n",
        "    x = x + shortcut # Residual connection\n",
        "\n",
        "    # Second block\n",
        "    shortcut = x\n",
        "    x = self.norm2(x) # Normalize\n",
        "    x = self.ff(x) # FeedForward\n",
        "    x = self.drop_shortcut(x) # Dropout\n",
        "    x = x + shortcut # Residual\n",
        "    return x\n",
        "\n",
        "\n",
        "# LAYERNORM\n",
        "class LayerNorm(nn.Module):\n",
        " def __init__(self, emb_dim): # emb_dim is the last dimension, to work with these numbers\n",
        "    super().__init__()\n",
        "    self.eps = 1e-5 # Small value to avoid division by 0\n",
        "    # Trainable parameters\n",
        "    self.scale = nn.Parameter(torch.ones(emb_dim))\n",
        "    self.shift = nn.Parameter(torch.zeros(emb_dim))\n",
        "\n",
        " def forward(self, x):\n",
        "    # Applies normalization\n",
        "    mean = x.mean(dim=-1, keepdim=True)\n",
        "    var = x.var(dim=-1, keepdim=True, unbiased=False)\n",
        "    norm_x = (x - mean) / torch.sqrt(var + self.eps)\n",
        "    return self.scale * norm_x + self.shift\n"
      ],
      "metadata": {
        "id": "-2L8oNA9HFbW"
      },
      "execution_count": 3,
      "outputs": []
    },
    {
      "cell_type": "code",
      "source": [
        "# GPT MODEL\n",
        "class GPTModel(nn.Module):\n",
        " def __init__(self, cfg):\n",
        "    super().__init__()\n",
        "    # Token and positional embedding layers, convert tokens into vectors and add valuable information\n",
        "    self.tok_emb = nn.Embedding(cfg[\"vocab_size\"], cfg[\"emb_dim\"])\n",
        "    self.pos_emb = nn.Embedding(cfg[\"context_length\"], cfg[\"emb_dim\"])\n",
        "    self.drop_emb = nn.Dropout(cfg[\"drop_rate\"])\n",
        "\n",
        "    # Sequential Stack of Transformer Block equal to the number of layers\n",
        "    self.trf_blocks = nn.Sequential(\n",
        "    *[TransformerBlock(cfg) for _ in range(cfg[\"n_layers\"])])\n",
        "\n",
        "    # Layer Norm to standardize outputs\n",
        "    self.final_norm = LayerNorm(cfg[\"emb_dim\"])\n",
        "\n",
        "    # Output into the vocabulary\n",
        "    self.out_head = nn.Linear(\n",
        "    cfg[\"emb_dim\"], cfg[\"vocab_size\"], bias=False\n",
        "    )\n",
        "\n",
        " def forward(self, in_idx):\n",
        "    batch_size, seq_len = in_idx.shape\n",
        "    # Computes embeddings\n",
        "    tok_embeds = self.tok_emb(in_idx)\n",
        "    pos_embeds = self.pos_emb(\n",
        "    torch.arange(seq_len, device=in_idx.device)\n",
        "    )\n",
        "    # Adds embeddings\n",
        "    x = tok_embeds + pos_embeds\n",
        "    x = self.drop_emb(x) # Dropout\n",
        "    x = self.trf_blocks(x) # Transformer Blocks\n",
        "    x = self.final_norm(x) # Normalization\n",
        "    logits = self.out_head(x) # Output\n",
        "    return logits\n",
        "\n",
        "\n"
      ],
      "metadata": {
        "id": "RPiDsbdkHIwB"
      },
      "execution_count": 4,
      "outputs": []
    },
    {
      "cell_type": "code",
      "source": [
        "# Reinitializing the model\n",
        "import torch\n",
        "\n",
        "\n",
        "GPT_CONFIG_124M = {\n",
        " \"vocab_size\": 50257,\n",
        " \"context_length\": 256,\n",
        " \"emb_dim\": 768,\n",
        " \"n_heads\": 12,\n",
        " \"n_layers\": 12,\n",
        " \"drop_rate\": 0.1,\n",
        " \"qkv_bias\": False\n",
        "}\n",
        "device = torch.device(\"cuda\" if torch.cuda.is_available() else \"cpu\")\n",
        "torch.manual_seed(123)\n",
        "model = GPTModel(GPT_CONFIG_124M)\n",
        "model.to(device)\n",
        "model.eval()\n"
      ],
      "metadata": {
        "colab": {
          "base_uri": "https://localhost:8080/"
        },
        "id": "H9XdoNf_HNi-",
        "outputId": "3ad453b8-2abb-4978-8b3d-ee4628d64b98"
      },
      "execution_count": 6,
      "outputs": [
        {
          "output_type": "execute_result",
          "data": {
            "text/plain": [
              "GPTModel(\n",
              "  (tok_emb): Embedding(50257, 768)\n",
              "  (pos_emb): Embedding(256, 768)\n",
              "  (drop_emb): Dropout(p=0.1, inplace=False)\n",
              "  (trf_blocks): Sequential(\n",
              "    (0): TransformerBlock(\n",
              "      (att): MultiHeadAttention(\n",
              "        (W_query): Linear(in_features=768, out_features=768, bias=False)\n",
              "        (W_key): Linear(in_features=768, out_features=768, bias=False)\n",
              "        (W_value): Linear(in_features=768, out_features=768, bias=False)\n",
              "        (out_proj): Linear(in_features=768, out_features=768, bias=True)\n",
              "        (dropout): Dropout(p=0.1, inplace=False)\n",
              "      )\n",
              "      (ff): FeedForward(\n",
              "        (layers): Sequential(\n",
              "          (0): Linear(in_features=768, out_features=3072, bias=True)\n",
              "          (1): GELU()\n",
              "          (2): Linear(in_features=3072, out_features=768, bias=True)\n",
              "        )\n",
              "      )\n",
              "      (norm1): LayerNorm()\n",
              "      (norm2): LayerNorm()\n",
              "      (drop_shortcut): Dropout(p=0.1, inplace=False)\n",
              "    )\n",
              "    (1): TransformerBlock(\n",
              "      (att): MultiHeadAttention(\n",
              "        (W_query): Linear(in_features=768, out_features=768, bias=False)\n",
              "        (W_key): Linear(in_features=768, out_features=768, bias=False)\n",
              "        (W_value): Linear(in_features=768, out_features=768, bias=False)\n",
              "        (out_proj): Linear(in_features=768, out_features=768, bias=True)\n",
              "        (dropout): Dropout(p=0.1, inplace=False)\n",
              "      )\n",
              "      (ff): FeedForward(\n",
              "        (layers): Sequential(\n",
              "          (0): Linear(in_features=768, out_features=3072, bias=True)\n",
              "          (1): GELU()\n",
              "          (2): Linear(in_features=3072, out_features=768, bias=True)\n",
              "        )\n",
              "      )\n",
              "      (norm1): LayerNorm()\n",
              "      (norm2): LayerNorm()\n",
              "      (drop_shortcut): Dropout(p=0.1, inplace=False)\n",
              "    )\n",
              "    (2): TransformerBlock(\n",
              "      (att): MultiHeadAttention(\n",
              "        (W_query): Linear(in_features=768, out_features=768, bias=False)\n",
              "        (W_key): Linear(in_features=768, out_features=768, bias=False)\n",
              "        (W_value): Linear(in_features=768, out_features=768, bias=False)\n",
              "        (out_proj): Linear(in_features=768, out_features=768, bias=True)\n",
              "        (dropout): Dropout(p=0.1, inplace=False)\n",
              "      )\n",
              "      (ff): FeedForward(\n",
              "        (layers): Sequential(\n",
              "          (0): Linear(in_features=768, out_features=3072, bias=True)\n",
              "          (1): GELU()\n",
              "          (2): Linear(in_features=3072, out_features=768, bias=True)\n",
              "        )\n",
              "      )\n",
              "      (norm1): LayerNorm()\n",
              "      (norm2): LayerNorm()\n",
              "      (drop_shortcut): Dropout(p=0.1, inplace=False)\n",
              "    )\n",
              "    (3): TransformerBlock(\n",
              "      (att): MultiHeadAttention(\n",
              "        (W_query): Linear(in_features=768, out_features=768, bias=False)\n",
              "        (W_key): Linear(in_features=768, out_features=768, bias=False)\n",
              "        (W_value): Linear(in_features=768, out_features=768, bias=False)\n",
              "        (out_proj): Linear(in_features=768, out_features=768, bias=True)\n",
              "        (dropout): Dropout(p=0.1, inplace=False)\n",
              "      )\n",
              "      (ff): FeedForward(\n",
              "        (layers): Sequential(\n",
              "          (0): Linear(in_features=768, out_features=3072, bias=True)\n",
              "          (1): GELU()\n",
              "          (2): Linear(in_features=3072, out_features=768, bias=True)\n",
              "        )\n",
              "      )\n",
              "      (norm1): LayerNorm()\n",
              "      (norm2): LayerNorm()\n",
              "      (drop_shortcut): Dropout(p=0.1, inplace=False)\n",
              "    )\n",
              "    (4): TransformerBlock(\n",
              "      (att): MultiHeadAttention(\n",
              "        (W_query): Linear(in_features=768, out_features=768, bias=False)\n",
              "        (W_key): Linear(in_features=768, out_features=768, bias=False)\n",
              "        (W_value): Linear(in_features=768, out_features=768, bias=False)\n",
              "        (out_proj): Linear(in_features=768, out_features=768, bias=True)\n",
              "        (dropout): Dropout(p=0.1, inplace=False)\n",
              "      )\n",
              "      (ff): FeedForward(\n",
              "        (layers): Sequential(\n",
              "          (0): Linear(in_features=768, out_features=3072, bias=True)\n",
              "          (1): GELU()\n",
              "          (2): Linear(in_features=3072, out_features=768, bias=True)\n",
              "        )\n",
              "      )\n",
              "      (norm1): LayerNorm()\n",
              "      (norm2): LayerNorm()\n",
              "      (drop_shortcut): Dropout(p=0.1, inplace=False)\n",
              "    )\n",
              "    (5): TransformerBlock(\n",
              "      (att): MultiHeadAttention(\n",
              "        (W_query): Linear(in_features=768, out_features=768, bias=False)\n",
              "        (W_key): Linear(in_features=768, out_features=768, bias=False)\n",
              "        (W_value): Linear(in_features=768, out_features=768, bias=False)\n",
              "        (out_proj): Linear(in_features=768, out_features=768, bias=True)\n",
              "        (dropout): Dropout(p=0.1, inplace=False)\n",
              "      )\n",
              "      (ff): FeedForward(\n",
              "        (layers): Sequential(\n",
              "          (0): Linear(in_features=768, out_features=3072, bias=True)\n",
              "          (1): GELU()\n",
              "          (2): Linear(in_features=3072, out_features=768, bias=True)\n",
              "        )\n",
              "      )\n",
              "      (norm1): LayerNorm()\n",
              "      (norm2): LayerNorm()\n",
              "      (drop_shortcut): Dropout(p=0.1, inplace=False)\n",
              "    )\n",
              "    (6): TransformerBlock(\n",
              "      (att): MultiHeadAttention(\n",
              "        (W_query): Linear(in_features=768, out_features=768, bias=False)\n",
              "        (W_key): Linear(in_features=768, out_features=768, bias=False)\n",
              "        (W_value): Linear(in_features=768, out_features=768, bias=False)\n",
              "        (out_proj): Linear(in_features=768, out_features=768, bias=True)\n",
              "        (dropout): Dropout(p=0.1, inplace=False)\n",
              "      )\n",
              "      (ff): FeedForward(\n",
              "        (layers): Sequential(\n",
              "          (0): Linear(in_features=768, out_features=3072, bias=True)\n",
              "          (1): GELU()\n",
              "          (2): Linear(in_features=3072, out_features=768, bias=True)\n",
              "        )\n",
              "      )\n",
              "      (norm1): LayerNorm()\n",
              "      (norm2): LayerNorm()\n",
              "      (drop_shortcut): Dropout(p=0.1, inplace=False)\n",
              "    )\n",
              "    (7): TransformerBlock(\n",
              "      (att): MultiHeadAttention(\n",
              "        (W_query): Linear(in_features=768, out_features=768, bias=False)\n",
              "        (W_key): Linear(in_features=768, out_features=768, bias=False)\n",
              "        (W_value): Linear(in_features=768, out_features=768, bias=False)\n",
              "        (out_proj): Linear(in_features=768, out_features=768, bias=True)\n",
              "        (dropout): Dropout(p=0.1, inplace=False)\n",
              "      )\n",
              "      (ff): FeedForward(\n",
              "        (layers): Sequential(\n",
              "          (0): Linear(in_features=768, out_features=3072, bias=True)\n",
              "          (1): GELU()\n",
              "          (2): Linear(in_features=3072, out_features=768, bias=True)\n",
              "        )\n",
              "      )\n",
              "      (norm1): LayerNorm()\n",
              "      (norm2): LayerNorm()\n",
              "      (drop_shortcut): Dropout(p=0.1, inplace=False)\n",
              "    )\n",
              "    (8): TransformerBlock(\n",
              "      (att): MultiHeadAttention(\n",
              "        (W_query): Linear(in_features=768, out_features=768, bias=False)\n",
              "        (W_key): Linear(in_features=768, out_features=768, bias=False)\n",
              "        (W_value): Linear(in_features=768, out_features=768, bias=False)\n",
              "        (out_proj): Linear(in_features=768, out_features=768, bias=True)\n",
              "        (dropout): Dropout(p=0.1, inplace=False)\n",
              "      )\n",
              "      (ff): FeedForward(\n",
              "        (layers): Sequential(\n",
              "          (0): Linear(in_features=768, out_features=3072, bias=True)\n",
              "          (1): GELU()\n",
              "          (2): Linear(in_features=3072, out_features=768, bias=True)\n",
              "        )\n",
              "      )\n",
              "      (norm1): LayerNorm()\n",
              "      (norm2): LayerNorm()\n",
              "      (drop_shortcut): Dropout(p=0.1, inplace=False)\n",
              "    )\n",
              "    (9): TransformerBlock(\n",
              "      (att): MultiHeadAttention(\n",
              "        (W_query): Linear(in_features=768, out_features=768, bias=False)\n",
              "        (W_key): Linear(in_features=768, out_features=768, bias=False)\n",
              "        (W_value): Linear(in_features=768, out_features=768, bias=False)\n",
              "        (out_proj): Linear(in_features=768, out_features=768, bias=True)\n",
              "        (dropout): Dropout(p=0.1, inplace=False)\n",
              "      )\n",
              "      (ff): FeedForward(\n",
              "        (layers): Sequential(\n",
              "          (0): Linear(in_features=768, out_features=3072, bias=True)\n",
              "          (1): GELU()\n",
              "          (2): Linear(in_features=3072, out_features=768, bias=True)\n",
              "        )\n",
              "      )\n",
              "      (norm1): LayerNorm()\n",
              "      (norm2): LayerNorm()\n",
              "      (drop_shortcut): Dropout(p=0.1, inplace=False)\n",
              "    )\n",
              "    (10): TransformerBlock(\n",
              "      (att): MultiHeadAttention(\n",
              "        (W_query): Linear(in_features=768, out_features=768, bias=False)\n",
              "        (W_key): Linear(in_features=768, out_features=768, bias=False)\n",
              "        (W_value): Linear(in_features=768, out_features=768, bias=False)\n",
              "        (out_proj): Linear(in_features=768, out_features=768, bias=True)\n",
              "        (dropout): Dropout(p=0.1, inplace=False)\n",
              "      )\n",
              "      (ff): FeedForward(\n",
              "        (layers): Sequential(\n",
              "          (0): Linear(in_features=768, out_features=3072, bias=True)\n",
              "          (1): GELU()\n",
              "          (2): Linear(in_features=3072, out_features=768, bias=True)\n",
              "        )\n",
              "      )\n",
              "      (norm1): LayerNorm()\n",
              "      (norm2): LayerNorm()\n",
              "      (drop_shortcut): Dropout(p=0.1, inplace=False)\n",
              "    )\n",
              "    (11): TransformerBlock(\n",
              "      (att): MultiHeadAttention(\n",
              "        (W_query): Linear(in_features=768, out_features=768, bias=False)\n",
              "        (W_key): Linear(in_features=768, out_features=768, bias=False)\n",
              "        (W_value): Linear(in_features=768, out_features=768, bias=False)\n",
              "        (out_proj): Linear(in_features=768, out_features=768, bias=True)\n",
              "        (dropout): Dropout(p=0.1, inplace=False)\n",
              "      )\n",
              "      (ff): FeedForward(\n",
              "        (layers): Sequential(\n",
              "          (0): Linear(in_features=768, out_features=3072, bias=True)\n",
              "          (1): GELU()\n",
              "          (2): Linear(in_features=3072, out_features=768, bias=True)\n",
              "        )\n",
              "      )\n",
              "      (norm1): LayerNorm()\n",
              "      (norm2): LayerNorm()\n",
              "      (drop_shortcut): Dropout(p=0.1, inplace=False)\n",
              "    )\n",
              "  )\n",
              "  (final_norm): LayerNorm()\n",
              "  (out_head): Linear(in_features=768, out_features=50257, bias=False)\n",
              ")"
            ]
          },
          "metadata": {},
          "execution_count": 6
        }
      ]
    },
    {
      "cell_type": "markdown",
      "source": [
        "Obtaining input data\n"
      ],
      "metadata": {
        "id": "F7m7gDG1JP1H"
      }
    },
    {
      "cell_type": "code",
      "source": [
        "import os\n",
        "import urllib.request\n",
        "file_path = \"the-verdict.txt\"\n",
        "url = (\n",
        " \"https://raw.githubusercontent.com/rasbt/LLMs-from-scratch/\"\n",
        " \"main/ch02/01_main-chapter-code/the-verdict.txt\"\n",
        ")\n",
        "if not os.path.exists(file_path):\n",
        " with urllib.request.urlopen(url) as response:\n",
        "  text_data = response.read().decode('utf-8')\n",
        " with open(file_path, \"w\", encoding=\"utf-8\") as file:\n",
        "  file.write(text_data)\n",
        "else:\n",
        " with open(file_path, \"r\", encoding=\"utf-8\") as file:\n",
        "  text_data = file.read()"
      ],
      "metadata": {
        "id": "YqTp4U6YJS1O"
      },
      "execution_count": 10,
      "outputs": []
    },
    {
      "cell_type": "markdown",
      "source": [
        "Loading data onto DataLoaders"
      ],
      "metadata": {
        "id": "oZn60BPpHk6P"
      }
    },
    {
      "cell_type": "code",
      "source": [
        "import tiktoken\n",
        "import torch\n",
        "from torch.utils.data import Dataset, DataLoader\n",
        "\n",
        "\n",
        "class GPTDatasetV1(Dataset):\n",
        "    def __init__(self, txt, tokenizer, max_length, stride):\n",
        "        \"\"\"Init method\n",
        "        txt: string input text\n",
        "        tokenizer: turns text into tokens\n",
        "        max_length: int length of each input sentence\n",
        "        stride: step size between chunks, how far to move sliding window\"\"\"\n",
        "\n",
        "        self.input_ids = []\n",
        "        self.target_ids = []\n",
        "        token_ids = tokenizer.encode(txt) # Tokenizes the entire text\n",
        "\n",
        "        for i in range(0, len(token_ids) - max_length, stride): # Uses a sliding window\n",
        "            input_chunk = token_ids[i:i + max_length] # Set of words of max length\n",
        "            target_chunk = token_ids[i + 1: i + max_length + 1] # The next max length\n",
        "            self.input_ids.append(torch.tensor(input_chunk)) # Stored as tensors\n",
        "            self.target_ids.append(torch.tensor(target_chunk))\n",
        "\n",
        "    def __len__(self):\n",
        "        return len(self.input_ids) # Returns the total number of rows from the dataset\n",
        "\n",
        "    def __getitem__(self, idx):\n",
        "        return self.input_ids[idx], self.target_ids[idx] # Returns a single row from the dataset\n",
        "\n",
        "\n",
        "def create_dataloader_v1(txt, batch_size=4, max_length=256,\n",
        "    stride=128, shuffle=True, drop_last=True,\n",
        "    num_workers=0):\n",
        "\n",
        "    tokenizer = tiktoken.get_encoding(\"gpt2\") # Tokenized\n",
        "\n",
        "    dataset = GPTDatasetV1(txt, tokenizer, max_length, stride) # Creates dataset\n",
        "\n",
        "    dataloader = DataLoader(\n",
        "    dataset,\n",
        "    batch_size=batch_size,\n",
        "    shuffle=shuffle,\n",
        "    drop_last=drop_last, # True to avoid errors in training\n",
        "    num_workers=num_workers\n",
        "    )\n",
        "    return dataloader"
      ],
      "metadata": {
        "id": "UR99M6Y1HnPi"
      },
      "execution_count": 11,
      "outputs": []
    },
    {
      "cell_type": "code",
      "source": [
        "# Splitting data\n",
        "train_ratio = 0.90\n",
        "split_idx = int(train_ratio * len(text_data))\n",
        "torch.manual_seed(123)\n",
        "train_loader = create_dataloader_v1(\n",
        " text_data[:split_idx],\n",
        " batch_size=2,\n",
        " max_length=GPT_CONFIG_124M[\"context_length\"],\n",
        " stride=GPT_CONFIG_124M[\"context_length\"],\n",
        " drop_last=True,\n",
        " shuffle=True,\n",
        " num_workers=0\n",
        ")\n",
        "val_loader = create_dataloader_v1(\n",
        " text_data[split_idx:],\n",
        " batch_size=2,\n",
        " max_length=GPT_CONFIG_124M[\"context_length\"],\n",
        " stride=GPT_CONFIG_124M[\"context_length\"],\n",
        " drop_last=False,\n",
        " shuffle=False,\n",
        " num_workers=0\n",
        ")"
      ],
      "metadata": {
        "id": "-080zd-kJB44"
      },
      "execution_count": 12,
      "outputs": []
    },
    {
      "cell_type": "markdown",
      "source": [
        "**Learning Rate Warmup**\n",
        "\n",
        "This process involves gradually increasing the learning rate from a very\n",
        "low initial value (initial_lr) to a maximum value specified by the user (peak_lr).\n",
        "Starting the training with smaller weight updates decreases the risk of the model\n",
        "encountering large, destabilizing updates during its training phase.\n",
        "\n",
        "\n",
        "Warmup steps refer to the number of training steps (or sometimes epochs) during which the learning rate is gradually increased from 0 (or a small value) to the target learning rate."
      ],
      "metadata": {
        "id": "FKi0HIoqIRn4"
      }
    },
    {
      "cell_type": "code",
      "source": [
        "n_epochs = 15\n",
        "initial_lr = 0.0001\n",
        "peak_lr = 0.01\n",
        "warmup_steps = 20\n",
        "\n",
        "total_steps = len(train_loader) * n_epochs\n",
        "warmup_steps = int(0.2 * total_steps)\n",
        "print(\"Warmup steps:\",warmup_steps)\n"
      ],
      "metadata": {
        "colab": {
          "base_uri": "https://localhost:8080/"
        },
        "id": "fl_a6We7Ih1W",
        "outputId": "5f50ec9b-8d6f-4abf-db84-b6812f8b6e68"
      },
      "execution_count": 13,
      "outputs": [
        {
          "output_type": "stream",
          "name": "stdout",
          "text": [
            "Warmup steps: 27\n"
          ]
        }
      ]
    },
    {
      "cell_type": "markdown",
      "source": [
        "This prints 27, meaning that we have 20 warmup steps to increase the initial learning\n",
        "rate from 0.0001 to 0.01 in the first 27 training steps."
      ],
      "metadata": {
        "id": "cumNm72jJgZ9"
      }
    },
    {
      "cell_type": "code",
      "source": [
        "# Creates AdamW optimizer with weight decay\n",
        "optimizer = torch.optim.AdamW(model.parameters(), weight_decay=0.1)\n",
        "# How much learning rate should increase per step during warmup\n",
        "lr_increment = (peak_lr - initial_lr) / warmup_steps\n",
        "# Optimizer steps taken\n",
        "global_step = -1\n",
        "# Stores learning rate at each step\n",
        "track_lrs = []\n",
        "\n",
        "# Loop through epochs and batches\n",
        "for epoch in range(n_epochs):\n",
        " for input_batch, target_batch in train_loader:\n",
        "  optimizer.zero_grad() # Gradients back to 0\n",
        "  global_step += 1 # One more step\n",
        "\n",
        "  # During warmup\n",
        "  if global_step < warmup_steps:\n",
        "    lr = initial_lr + global_step * lr_increment # Change in learning rate\n",
        "  # After warmup\n",
        "  else:\n",
        "    lr = peak_lr\n",
        "\n",
        "  # Sets the same lr for all parameters\n",
        "  for param_group in optimizer.param_groups:\n",
        "    param_group[\"lr\"] = lr\n",
        "\n",
        "  # Stores learning rate\n",
        "  track_lrs.append(optimizer.param_groups[0][\"lr\"])"
      ],
      "metadata": {
        "id": "pD-87kPuJkid"
      },
      "execution_count": 14,
      "outputs": []
    },
    {
      "cell_type": "code",
      "source": [
        "# Quick test of the code\n",
        "import matplotlib.pyplot as plt\n",
        "plt.ylabel(\"Learning rate\")\n",
        "plt.xlabel(\"Step\")\n",
        "total_training_steps = len(train_loader) * n_epochs\n",
        "plt.plot(range(total_training_steps), track_lrs);\n",
        "plt.show()"
      ],
      "metadata": {
        "colab": {
          "base_uri": "https://localhost:8080/",
          "height": 449
        },
        "id": "5i3G-dNvK9eX",
        "outputId": "3d77165f-2757-41fc-948a-2a6f257a6cb2"
      },
      "execution_count": 15,
      "outputs": [
        {
          "output_type": "display_data",
          "data": {
            "text/plain": [
              "<Figure size 640x480 with 1 Axes>"
            ],
            "image/png": "[encoded data removed]"
          },
          "metadata": {}
        }
      ]
    },
    {
      "cell_type": "markdown",
      "source": [
        "Shows the warmup during the first 20 steps\n",
        "\n",
        "Next, we will modify the learning rate further so that it decreases after reaching the\n",
        "maximum learning rate, which further helps improve the model training\n",
        "\n",
        "**Cosine Decay**\n",
        "\n",
        "Cosine decay reduces the learning rate following a cosine curve, starting from a maximum learning rate and decaying smoothly to a minimum (often zero) by the end of training.\n",
        "\n",
        "Smooth convergence\n",
        "\n",
        "No abrupt drops\n",
        "\n",
        "Often leads to better generalization and performance (especially in transformers and CNNs)"
      ],
      "metadata": {
        "id": "-UbiPmcYLDr9"
      }
    },
    {
      "cell_type": "code",
      "source": [
        "import math\n",
        "min_lr = 0.1 * initial_lr\n",
        "track_lrs = []\n",
        "lr_increment = (peak_lr - initial_lr) / warmup_steps\n",
        "global_step = -1\n",
        "\n",
        "\n",
        "for epoch in range(n_epochs):\n",
        " for input_batch, target_batch in train_loader:\n",
        "  optimizer.zero_grad()\n",
        "  global_step += 1\n",
        "\n",
        "  # Warmup\n",
        "  if global_step < warmup_steps:\n",
        "    lr = initial_lr + global_step * lr_increment\n",
        "  else: # After warmup apply cosine\n",
        "    progress = ((global_step - warmup_steps) /\n",
        "    (total_training_steps - warmup_steps))\n",
        "    lr = min_lr + (peak_lr - min_lr) * 0.5 * (\n",
        "    1 + math.cos(math.pi * progress)\n",
        "    )\n",
        "\n",
        "  for param_group in optimizer.param_groups:\n",
        "    param_group[\"lr\"] = lr\n",
        "  track_lrs.append(optimizer.param_groups[0][\"lr\"])"
      ],
      "metadata": {
        "id": "4XrmAb3dLiAw"
      },
      "execution_count": 16,
      "outputs": []
    },
    {
      "cell_type": "code",
      "source": [
        "# Testing\n",
        "plt.ylabel(\"Learning rate\")\n",
        "plt.xlabel(\"Step\")\n",
        "plt.plot(range(total_training_steps), track_lrs)\n",
        "plt.show()\n",
        "\n",
        "# We see a smooth decreasing curve"
      ],
      "metadata": {
        "colab": {
          "base_uri": "https://localhost:8080/",
          "height": 449
        },
        "id": "hIp0lqw6Lyje",
        "outputId": "c149cb3e-ce84-4876-d613-1a247b94f083"
      },
      "execution_count": 17,
      "outputs": [
        {
          "output_type": "display_data",
          "data": {
            "text/plain": [
              "<Figure size 640x480 with 1 Axes>"
            ],
            "image/png": "[encoded data removed]"
          },
          "metadata": {}
        }
      ]
    },
    {
      "cell_type": "markdown",
      "source": [
        "**Gradient Clipping**\n",
        "\n",
        "This method involves setting a threshold above which gradients are downscaled to a predetermined maximum magnitude. This process ensures that the updates\n",
        "to the model’s parameters during backpropagation stay within a manageable range."
      ],
      "metadata": {
        "id": "fGqh2PsTL5wc"
      }
    },
    {
      "cell_type": "code",
      "source": [
        "# Using previous loss batches\n",
        "\n",
        "# Cross entropy loss of a single batch\n",
        "def calc_loss_batch(input_batch, target_batch, model, device):\n",
        " \"\"\" Input batch: batch of input data\n",
        " target batch: labels we wish to predict\n",
        " model: NN model\n",
        " device: CPU or GPU\"\"\"\n",
        "\n",
        " # Used more commonly for GPU\n",
        " input_batch = input_batch.to(device)\n",
        " target_batch = target_batch.to(device)\n",
        "\n",
        " # Output\n",
        " logits = model(input_batch)\n",
        "\n",
        " # Loss\n",
        " loss = torch.nn.functional.cross_entropy(\n",
        " logits.flatten(0, 1), target_batch.flatten()\n",
        " )\n",
        " return loss\n",
        "\n",
        "# Loss over all batches\n",
        "def calc_loss_loader(data_loader, model, device, num_batches=None):\n",
        " \"\"\" data_loader: DataLoader for providing batches of input\n",
        " model: evaluated model\n",
        " device: CPU or GPU\n",
        " num_batches: batches used to compute loss, if None, all batches are used\"\"\"\n",
        "\n",
        " # Initalize loss\n",
        " total_loss = 0.\n",
        "\n",
        " # Empty data\n",
        " if len(data_loader) == 0:\n",
        "    return float(\"nan\")\n",
        "\n",
        " # Define batches used\n",
        " elif num_batches is None:\n",
        "    num_batches = len(data_loader)\n",
        " else:\n",
        "    num_batches = min(num_batches, len(data_loader))\n",
        " # Loop over data, for each batch\n",
        " for i, (input_batch, target_batch) in enumerate(data_loader):\n",
        "        if i < num_batches:\n",
        "            loss = calc_loss_batch( # COmputes loss\n",
        "               input_batch, target_batch, model, device)\n",
        "            total_loss += loss.item() # Adds the loss\n",
        "        else:\n",
        "            break\n",
        "\n",
        " # Returns average loss\n",
        " return total_loss / num_batches"
      ],
      "metadata": {
        "id": "GJ6lvt-XMhfI"
      },
      "execution_count": 18,
      "outputs": []
    },
    {
      "cell_type": "code",
      "source": [
        "torch.manual_seed(123)\n",
        "model = GPTModel(GPT_CONFIG_124M)\n",
        "model.to(device)\n",
        "loss = calc_loss_batch(input_batch, target_batch, model, device)\n",
        "loss.backward()"
      ],
      "metadata": {
        "id": "GNoQ6yDYMyNg"
      },
      "execution_count": 19,
      "outputs": []
    },
    {
      "cell_type": "code",
      "source": [
        "# To provide a good threshold we will find the largest one\n",
        "def find_highest_gradient(model):\n",
        " max_grad = None\n",
        " for param in model.parameters():\n",
        "  if param.grad is not None:\n",
        "    grad_values = param.grad.data.flatten()\n",
        "    max_grad_param = grad_values.max()\n",
        "    if max_grad is None or max_grad_param > max_grad:\n",
        "      max_grad = max_grad_param\n",
        "  return max_grad\n",
        "print(find_highest_gradient(model))"
      ],
      "metadata": {
        "colab": {
          "base_uri": "https://localhost:8080/"
        },
        "id": "N5wAQzdGMyLt",
        "outputId": "c69bfe50-12fe-4e9f-f578-b4de3886501d"
      },
      "execution_count": 20,
      "outputs": [
        {
          "output_type": "stream",
          "name": "stdout",
          "text": [
            "tensor(0.0006, device='cuda:0')\n"
          ]
        }
      ]
    },
    {
      "cell_type": "code",
      "source": [
        "# Applying gradient clipping\n",
        "torch.nn.utils.clip_grad_norm_(model.parameters(), max_norm=1.0)\n",
        "print(find_highest_gradient(model))"
      ],
      "metadata": {
        "colab": {
          "base_uri": "https://localhost:8080/"
        },
        "id": "UZIW_KtTNQRX",
        "outputId": "0c78a2e0-7c4d-4495-f879-8b5bd11d9be4"
      },
      "execution_count": 21,
      "outputs": [
        {
          "output_type": "stream",
          "name": "stdout",
          "text": [
            "tensor(0.0002, device='cuda:0')\n"
          ]
        }
      ]
    },
    {
      "cell_type": "markdown",
      "source": [
        "Modified training function\n"
      ],
      "metadata": {
        "id": "sFuCA7E6NXEC"
      }
    },
    {
      "cell_type": "code",
      "source": [
        "# Prints training and validation losses to update them\n",
        "\n",
        "def text_to_token_ids(text, tokenizer):\n",
        " \"\"\"Converts texts to token ids\"\"\"\n",
        " encoded = tokenizer.encode(text, allowed_special={'<|endoftext|>'})\n",
        " # Converts TokenIds into a Pytorch tensor\n",
        " encoded_tensor = torch.tensor(encoded).unsqueeze(0)\n",
        " return encoded_tensor\n",
        "\n",
        "\n",
        "def token_ids_to_text(token_ids, tokenizer):\n",
        " \"Changes ids to text\"\n",
        " flat = token_ids.squeeze(0)\n",
        " return tokenizer.decode(flat.tolist()) # Converts back into text\n",
        "\n",
        "\n",
        "def evaluate_model(model, train_loader, val_loader, device, eval_iter):\n",
        "\n",
        " model.eval() # Dropout disappears\n",
        "\n",
        " with torch.no_grad(): # Evaluation is done, no need for gradients\n",
        "    train_loss = calc_loss_loader(\n",
        "    train_loader, model, device, num_batches=eval_iter\n",
        "    )\n",
        "    val_loss = calc_loss_loader(\n",
        "    val_loader, model, device, num_batches=eval_iter\n",
        "    )\n",
        " model.train() # Train the model\n",
        " return train_loss, val_loss\n",
        "\n",
        " # Generates a text to validate its performance during training\n",
        "def generate_and_print_sample(model, tokenizer, device, start_context):\n",
        " model.eval() # No training, just word generation\n",
        " context_size = model.pos_emb.weight.shape[0] # Maximum available context length\n",
        " encoded = text_to_token_ids(start_context, tokenizer).to(device) # Tokenizing text\n",
        " with torch.no_grad():\n",
        "    token_ids = generate_text_simple(\n",
        "    model=model, idx=encoded,\n",
        "    max_new_tokens=50, context_size=context_size) # Generates 50 new tkens\n",
        "\n",
        " decoded_text = token_ids_to_text(token_ids, tokenizer) # Decoded tokens\n",
        " print(decoded_text.replace(\"\\n\", \" \"))\n",
        " model.train() # Back to"
      ],
      "metadata": {
        "id": "k4UsnN8bNa9E"
      },
      "execution_count": 22,
      "outputs": []
    },
    {
      "cell_type": "markdown",
      "source": [
        "TRAINING MODEL\n"
      ],
      "metadata": {
        "id": "iMlACvyNNq-0"
      }
    },
    {
      "cell_type": "code",
      "source": [
        "def train_model(model, train_loader, val_loader, optimizer, device,\n",
        " n_epochs, eval_freq, eval_iter, start_context, tokenizer,\n",
        " warmup_steps, initial_lr=3e-05, min_lr=1e-6):\n",
        "\n",
        " train_losses, val_losses, track_tokens_seen, track_lrs = [], [], [], []\n",
        " tokens_seen, global_step = 0, -1\n",
        " peak_lr = optimizer.param_groups[0][\"lr\"]\n",
        " total_training_steps = len(train_loader) * n_epochs\n",
        " lr_increment = (peak_lr - initial_lr) / warmup_steps\n",
        "\n",
        " for epoch in range(n_epochs):\n",
        "  model.train()\n",
        "  for input_batch, target_batch in train_loader:\n",
        "    optimizer.zero_grad()\n",
        "    global_step += 1\n",
        "\n",
        "    # Learning Rate\n",
        "    if global_step < warmup_steps:\n",
        "      lr = initial_lr + global_step * lr_increment\n",
        "    else:\n",
        "      progress = ((global_step - warmup_steps) /\n",
        "      (total_training_steps - warmup_steps))\n",
        "      lr = min_lr + (peak_lr - min_lr) * 0.5 * (\n",
        "      1 + math.cos(math.pi * progress))\n",
        "\n",
        "    for param_group in optimizer.param_groups:\n",
        "      param_group[\"lr\"] = lr\n",
        "    track_lrs.append(lr)\n",
        "    loss = calc_loss_batch(input_batch, target_batch, model, device)\n",
        "    loss.backward()\n",
        "\n",
        "    # Gradient clipping\n",
        "    if global_step > warmup_steps:\n",
        "      torch.nn.utils.clip_grad_norm_(\n",
        "      model.parameters(), max_norm=1.0\n",
        "      )\n",
        "\n",
        "    # Same code as before\n",
        "    optimizer.step()\n",
        "    tokens_seen += input_batch.numel()\n",
        "\n",
        "    if global_step % eval_freq == 0:\n",
        "      train_loss, val_loss = evaluate_model(\n",
        "      model, train_loader, val_loader,\n",
        "      device, eval_iter\n",
        "      )\n",
        "      train_losses.append(train_loss)\n",
        "      val_losses.append(val_loss)\n",
        "      track_tokens_seen.append(tokens_seen)\n",
        "      print(f\"Ep {epoch+1} (Iter {global_step:06d}): \"\n",
        "      f\"Train loss {train_loss:.3f}, \"\n",
        "      f\"Val loss {val_loss:.3f}\"\n",
        "      )\n",
        "\n",
        "  generate_and_print_sample(\n",
        "  model, tokenizer, device, start_context\n",
        "  )\n",
        " return train_losses, val_losses, track_tokens_seen, track_lrs"
      ],
      "metadata": {
        "id": "wBJhVNY7NsnH"
      },
      "execution_count": 23,
      "outputs": []
    },
    {
      "cell_type": "code",
      "source": [
        "# Training model\n",
        "import tiktoken\n",
        "torch.manual_seed(123)\n",
        "model = GPTModel(GPT_CONFIG_124M)\n",
        "model.to(device)\n",
        "peak_lr = 5e-4\n",
        "optimizer = torch.optim.AdamW(model.parameters(), weight_decay=0.1)\n",
        "tokenizer = tiktoken.get_encoding(\"gpt2\")\n",
        "n_epochs = 15\n",
        "train_losses, val_losses, tokens_seen, lrs = train_model(\n",
        " model, train_loader, val_loader, optimizer, device, n_epochs=n_epochs,\n",
        " eval_freq=5, eval_iter=1, start_context=\"Every effort moves you\",\n",
        " tokenizer=tokenizer, warmup_steps=warmup_steps,\n",
        " initial_lr=1e-5, min_lr=1e-5\n",
        ")"
      ],
      "metadata": {
        "colab": {
          "base_uri": "https://localhost:8080/"
        },
        "id": "NEG3U-1COY7G",
        "outputId": "f06a2800-6f2e-4d54-9a10-fc70bd7dfea4"
      },
      "execution_count": 24,
      "outputs": [
        {
          "output_type": "stream",
          "name": "stdout",
          "text": [
            "Ep 1 (Iter 000000): Train loss 10.970, Val loss 10.938\n",
            "Ep 1 (Iter 000005): Train loss 9.336, Val loss 9.460\n",
            "Every effort moves you,,,,,,,,,,,,,,,,,,,,,,,,,,,,,,,,,,,,,,,,,,,,,,,,,,\n",
            "Ep 2 (Iter 000010): Train loss 7.820, Val loss 8.186\n",
            "Ep 2 (Iter 000015): Train loss 6.344, Val loss 6.892\n",
            "Every effort moves you,,,,,,,,,,,,,,,,,,,,,,,,,,,,,,,,,,,,,,,,,,,,,,,,,,\n",
            "Ep 3 (Iter 000020): Train loss 6.076, Val loss 6.595\n",
            "Ep 3 (Iter 000025): Train loss 5.681, Val loss 6.771\n",
            "Every effort moves you, the of the of the of the of the of the of the of the of the of the of the of the of the of the of the of the of the of the of the of the of the of the of the of the of the\n",
            "Ep 4 (Iter 000030): Train loss 5.803, Val loss 6.841\n",
            "Ep 4 (Iter 000035): Train loss 5.784, Val loss 6.837\n",
            "Every effort moves you.                                                 \n",
            "Ep 5 (Iter 000040): Train loss 5.353, Val loss 6.689\n",
            "Every effort moves you.  \".  \"- it.                                       \n",
            "Ep 6 (Iter 000045): Train loss 4.935, Val loss 6.611\n",
            "Ep 6 (Iter 000050): Train loss 4.291, Val loss 6.370\n",
            "Every effort moves you know the picture and in the picture                                           \n",
            "Ep 7 (Iter 000055): Train loss 3.849, Val loss 6.328\n",
            "Ep 7 (Iter 000060): Train loss 2.739, Val loss 6.170\n",
            "Every effort moves you know it was his a little to me--and the fact of the last I felt to me--I looked up, I felt to see a little of the fact that he was his pictures--the, and, and--I didn't, I\n",
            "Ep 8 (Iter 000065): Train loss 2.603, Val loss 6.154\n",
            "Ep 8 (Iter 000070): Train loss 2.346, Val loss 6.178\n",
            "Every effort moves you know the was not that I felt--I had the fact with the last I had been--and I looked up, I had been hardisburn, with a later-curtains, I had the donkey. Gisburn, I had\n",
            "Ep 9 (Iter 000075): Train loss 1.898, Val loss 6.176\n",
            "Ep 9 (Iter 000080): Train loss 1.060, Val loss 6.235\n",
            "Every effort moves you?\"  \"I must.\"   \"--as such--had not to my work, and up, I felt to see a smile behind his close grayish beard--as if he had the donkey. \"There were, I had\n",
            "Ep 10 (Iter 000085): Train loss 1.131, Val loss 6.292\n",
            "Every effort moves you?\"  \"Yes--quite insensible to the fact with that point I could have given Miss Croft the fullest reassurance. I was just because she was _not_ interesting--if I had the donkey. \"There were days when I\n",
            "Ep 11 (Iter 000090): Train loss 0.662, Val loss 6.266\n",
            "Ep 11 (Iter 000095): Train loss 0.595, Val loss 6.355\n",
            "Every effort moves you?\"  \"Yes--quite insensible to the irony. \"Oh, so disarming, and went on groping and Mrs. \" back his head to look up at the honour being _mine_--because he didn't want\n",
            "Ep 12 (Iter 000100): Train loss 0.438, Val loss 6.366\n",
            "Ep 12 (Iter 000105): Train loss 0.327, Val loss 6.384\n",
            "Every effort moves you?\"  \"Yes--quite insensible to the irony. She wanted him vindicated--and by me!\"  He laughed again, and threw back his head to look up at the sketch of the donkey. \"There were days when I\n",
            "Ep 13 (Iter 000110): Train loss 0.344, Val loss 6.461\n",
            "Ep 13 (Iter 000115): Train loss 0.243, Val loss 6.465\n",
            "Every effort moves you?\"  \"Yes--quite insensible to the irony. She wanted him vindicated--and by me!\"  He laughed again, and threw back his head to look up at the sketch of the donkey. \"There were days when I\n",
            "Ep 14 (Iter 000120): Train loss 0.240, Val loss 6.475\n",
            "Ep 14 (Iter 000125): Train loss 0.213, Val loss 6.478\n",
            "Every effort moves you?\"  \"Yes--quite insensible to the irony. She wanted him vindicated--and by me!\"  He laughed again, and threw back his head to look up at the sketch of the donkey. \"There were days when I\n",
            "Ep 15 (Iter 000130): Train loss 0.200, Val loss 6.482\n",
            "Every effort moves you?\"  \"Yes--quite insensible to the irony. She wanted him vindicated--and by me!\"  He laughed again, and threw back his head to look up at the sketch of the donkey. \"There were days when I\n"
          ]
        }
      ]
    },
    {
      "cell_type": "markdown",
      "source": [
        "Like pretraining, the model begins to overfit after a few epochs since it is a very small\n",
        "dataset, and we iterate over it multiple times. Nonetheless, we can see that the function is working since it minimizes the training set loss"
      ],
      "metadata": {
        "id": "RXofM4HBOf7k"
      }
    }
  ],
  "metadata": {
    "accelerator": "GPU",
    "colab": {
      "gpuType": "T4",
      "provenance": [],
      "authorship_tag": "ABX9TyNA0iS6ZU16Ix1hIwVCi09J",
      "include_colab_link": true
    },
    "kernelspec": {
      "display_name": "Python 3",
      "name": "python3"
    },
    "language_info": {
      "name": "python"
    }
  },
  "nbformat": 4,
  "nbformat_minor": 0
}