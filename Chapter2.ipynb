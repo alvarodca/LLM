{
 "cells": [
  {
   "cell_type": "markdown",
   "id": "fbe49229",
   "metadata": {},
   "source": [
    "# Working with text data"
   ]
  },
  {
   "cell_type": "markdown",
   "metadata": {},
   "source": [
    "We are currently at step 1, data preparation and sampling.\n",
    "\n",
    "To prepare input texts, we need to separate it into individual words and tokens to be able to encode them.\n",
    "\n",
    "Embedding refers to the process of converting data in this case text into a vector format.\n",
    "\n",
    "The purpose is to have a data format which neural networks can process\n",
    "\n",
    "There are different embeddings, however we will focus on words embeddings as we want to generate one at a time.\n",
    "\n",
    "Word embeddings can have varying dimensions, from one to thousands. A higher\n",
    "dimensionality might capture more nuanced relationships but at the cost of computational efficiency."
   ]
  },
  {
   "cell_type": "code",
   "execution_count": 5,
   "id": "78c39a5e",
   "metadata": {},
   "outputs": [
    {
     "name": "stdout",
     "output_type": "stream",
     "text": [
      "Total number of character: 20479\n",
      "I HAD always thought Jack Gisburn rather a cheap genius--though a good fellow enough--so it was no \n",
      "Separating words:  ['Hello,', ' ', 'world.', ' ', 'This,', ' ', 'is', ' ', 'a', ' ', 'test.']\n",
      "Separating dots and commas:  ['Hello', ',', '', ' ', 'world', '.', '', ' ', 'This', ',', '', ' ', 'is', ' ', 'a', ' ', 'test', '.', '']\n",
      "Removing blank spaces:  ['Hello', ',', 'world', '.', 'This', ',', 'is', 'a', 'test', '.']\n",
      "With punctuation:  ['Hello', ',', 'world', '.', 'Is', 'this', '--', 'a', 'test', '?']\n"
     ]
    }
   ],
   "source": [
    "# To practice this, we will use the-verdict.txt file\n",
    "with open(\"the-verdict.txt\", \"r\", encoding=\"utf-8\") as f:\n",
    " raw_text = f.read()\n",
    "print(\"Total number of character:\", len(raw_text))\n",
    "print(raw_text[:99])\n",
    "\n",
    "# We wish to turn all this characters into tokens which we can embedd\n",
    "\n",
    "# To obtain the different set of characters we use the re library\n",
    "import re\n",
    "\n",
    "text = \"Hello, world. This, is a test.\"\n",
    "result = re.split(r'(\\s)', text)\n",
    "print(\"Separating words: \",result)\n",
    "\n",
    "# We wish to separate dots and commas to separate instances\n",
    "result = re.split(r'([,.]|\\s)', text)\n",
    "print(\"Separating dots and commas: \",result)\n",
    "\n",
    "# If we wish to remove blank space characters\n",
    "result = [item for item in result if item.strip()]\n",
    "print(\"Removing blank spaces: \",result)\n",
    "\n",
    "# Removing white spaces can depend on what the focus is as it can be memory efficient or needed to avoid erros.\n",
    "\n",
    "# Taking into account all punctuaction terms\n",
    "text = \"Hello, world. Is this-- a test?\"\n",
    "result = re.split(r'([,.:;?_!\"()\\']|--|\\s)', text)\n",
    "result = [item.strip() for item in result if item.strip()]\n",
    "print(\"With punctuation: \", result)"
   ]
  },
  {
   "cell_type": "code",
   "execution_count": null,
   "id": "4228f7cc",
   "metadata": {},
   "outputs": [],
   "source": [
    "# Applying this to our whole text"
   ]
  }
 ],
 "metadata": {
  "kernelspec": {
   "display_name": "Python 3",
   "language": "python",
   "name": "python3"
  },
  "language_info": {
   "codemirror_mode": {
    "name": "ipython",
    "version": 3
   },
   "file_extension": ".py",
   "mimetype": "text/x-python",
   "name": "python",
   "nbconvert_exporter": "python",
   "pygments_lexer": "ipython3",
   "version": "3.11.0"
  }
 },
 "nbformat": 4,
 "nbformat_minor": 5
}
