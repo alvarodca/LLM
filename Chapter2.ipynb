{
 "cells": [
  {
   "cell_type": "markdown",
   "id": "fbe49229",
   "metadata": {},
   "source": [
    "# Working with text data"
   ]
  },
  {
   "cell_type": "markdown",
   "metadata": {},
   "source": [
    "We are currently at step 1, data preparation and sampling.\n",
    "\n",
    "To prepare input texts, we need to separate it into individual words and tokens to be able to encode them.\n",
    "\n",
    "Embedding refers to the process of converting data in this case text into a vector format.\n",
    "\n",
    "The purpose is to have a data format which neural networks can process\n",
    "\n",
    "There are different embeddings, however we will focus on words embeddings as we want to generate one at a time.\n",
    "\n",
    "Word embeddings can have varying dimensions, from one to thousands. A higher\n",
    "dimensionality might capture more nuanced relationships but at the cost of computational efficiency."
   ]
  },
  {
   "cell_type": "code",
   "execution_count": 10,
   "id": "78c39a5e",
   "metadata": {},
   "outputs": [
    {
     "name": "stdout",
     "output_type": "stream",
     "text": [
      "Total number of character: 20479\n",
      "I HAD always thought Jack Gisburn rather a cheap genius--though a good fellow enough--so it was no \n",
      "Separating words:  ['Hello,', ' ', 'world.', ' ', 'This,', ' ', 'is', ' ', 'a', ' ', 'test.']\n",
      "Separating dots and commas:  ['Hello', ',', '', ' ', 'world', '.', '', ' ', 'This', ',', '', ' ', 'is', ' ', 'a', ' ', 'test', '.', '']\n",
      "Removing blank spaces:  ['Hello', ',', 'world', '.', 'This', ',', 'is', 'a', 'test', '.']\n",
      "With punctuation:  ['Hello', ',', 'world', '.', 'Is', 'this', '--', 'a', 'test', '?']\n"
     ]
    }
   ],
   "source": [
    "# To practice this, we will use the-verdict.txt file\n",
    "with open(\"the-verdict.txt\", \"r\", encoding=\"utf-8\") as f:\n",
    " raw_text = f.read()\n",
    "print(\"Total number of character:\", len(raw_text))\n",
    "print(raw_text[:99])\n",
    "\n",
    "# We wish to turn all this characters into tokens which we can embedd\n",
    "\n",
    "# To obtain the different set of characters we use the re library\n",
    "import re\n",
    "\n",
    "text = \"Hello, world. This, is a test.\"\n",
    "result = re.split(r'(\\s)', text)\n",
    "print(\"Separating words: \",result)\n",
    "\n",
    "# We wish to separate dots and commas to separate instances\n",
    "result = re.split(r'([,.]|\\s)', text)\n",
    "print(\"Separating dots and commas: \",result)\n",
    "\n",
    "# If we wish to remove blank space characters\n",
    "result = [item for item in result if item.strip()]\n",
    "print(\"Removing blank spaces: \",result)\n",
    "\n",
    "# Removing white spaces can depend on what the focus is as it can be memory efficient or needed to avoid erros.\n",
    "\n",
    "# Taking into account all punctuaction terms\n",
    "text = \"Hello, world. Is this-- a test?\"\n",
    "result = re.split(r'([,.:;?_!\"()\\']|--|\\s)', text)\n",
    "result = [item.strip() for item in result if item.strip()]\n",
    "print(\"With punctuation: \", result)"
   ]
  },
  {
   "cell_type": "code",
   "execution_count": 11,
   "id": "4228f7cc",
   "metadata": {},
   "outputs": [
    {
     "name": "stdout",
     "output_type": "stream",
     "text": [
      "Total amount of tokens (no whitespaces):  4690\n",
      "First 30 tokens:  ['I', 'HAD', 'always', 'thought', 'Jack', 'Gisburn', 'rather', 'a', 'cheap', 'genius', '--', 'though', 'a', 'good', 'fellow', 'enough', '--', 'so', 'it', 'was', 'no', 'great', 'surprise', 'to', 'me', 'to', 'hear', 'that', ',', 'in']\n"
     ]
    }
   ],
   "source": [
    "# Applying this to our whole text\n",
    "preprocessed = re.split(r'([,.:;?_!\"()\\']|--|\\s)', raw_text)\n",
    "preprocessed = [item.strip() for item in preprocessed if item.strip()]\n",
    "print(\"Total amount of tokens (no whitespaces): \",len(preprocessed))\n",
    "\n",
    "print(\"First 30 tokens: \",preprocessed[:30])"
   ]
  },
  {
   "cell_type": "markdown",
   "id": "4d01e385",
   "metadata": {},
   "source": [
    "We need to provide token ID, in other words, assign each token to a number"
   ]
  },
  {
   "cell_type": "code",
   "execution_count": 12,
   "id": "35deb785",
   "metadata": {},
   "outputs": [
    {
     "name": "stdout",
     "output_type": "stream",
     "text": [
      "1130\n",
      "('!', 0)\n",
      "('\"', 1)\n",
      "(\"'\", 2)\n",
      "('(', 3)\n",
      "(')', 4)\n",
      "(',', 5)\n",
      "('--', 6)\n",
      "('.', 7)\n",
      "(':', 8)\n",
      "(';', 9)\n",
      "('?', 10)\n",
      "('A', 11)\n",
      "('Ah', 12)\n",
      "('Among', 13)\n",
      "('And', 14)\n",
      "('Are', 15)\n",
      "('Arrt', 16)\n",
      "('As', 17)\n",
      "('At', 18)\n",
      "('Be', 19)\n",
      "('Begin', 20)\n",
      "('Burlington', 21)\n",
      "('But', 22)\n",
      "('By', 23)\n",
      "('Carlo', 24)\n",
      "('Chicago', 25)\n",
      "('Claude', 26)\n",
      "('Come', 27)\n",
      "('Croft', 28)\n",
      "('Destroyed', 29)\n",
      "('Devonshire', 30)\n",
      "('Don', 31)\n",
      "('Dubarry', 32)\n",
      "('Emperors', 33)\n",
      "('Florence', 34)\n",
      "('For', 35)\n",
      "('Gallery', 36)\n",
      "('Gideon', 37)\n",
      "('Gisburn', 38)\n",
      "('Gisburns', 39)\n",
      "('Grafton', 40)\n",
      "('Greek', 41)\n",
      "('Grindle', 42)\n",
      "('Grindles', 43)\n",
      "('HAD', 44)\n",
      "('Had', 45)\n",
      "('Hang', 46)\n",
      "('Has', 47)\n",
      "('He', 48)\n",
      "('Her', 49)\n",
      "('Hermia', 50)\n"
     ]
    }
   ],
   "source": [
    "all_words = sorted(set(preprocessed)) # Set obtains unique tokens, sorted orders them in alphabetical order\n",
    "print(len(all_words)) \n",
    "\n",
    "# Printing the first 51 elements\n",
    "vocab = {token:integer for integer,token in enumerate(all_words)}\n",
    "for i, item in enumerate(vocab.items()):\n",
    " print(item)\n",
    " if i >= 50:\n",
    "    break"
   ]
  },
  {
   "cell_type": "markdown",
   "id": "153d82c9",
   "metadata": {},
   "source": [
    "We will create a class that both encodes words into tokens and thus TokenID and a decoder to reverse this operation"
   ]
  },
  {
   "cell_type": "code",
   "execution_count": 13,
   "id": "3a2efaeb",
   "metadata": {},
   "outputs": [],
   "source": [
    "class SimpleTokenizerV1:\n",
    " def __init__(self, vocab):\n",
    "    self.str_to_int = vocab # Maps strings to tokens\n",
    "    self.int_to_str = {i:s for s,i in vocab.items()} # Reverse mapping\n",
    "\n",
    " def encode(self, text):\n",
    "    preprocessed = re.split(r'([,.?_!\"()\\']|--|\\s)', text) # Tokenizes items\n",
    "    preprocessed = [\n",
    "    item.strip() for item in preprocessed if item.strip()\n",
    "    ] # Ensures empty spaces are cleaned\n",
    "    ids = [self.str_to_int[s] for s in preprocessed] # Converts each token into its integer ID\n",
    "    return ids\n",
    "\n",
    " def decode(self, ids):\n",
    "    text = \" \".join([self.int_to_str[i] for i in ids]) # Integer to string\n",
    "\n",
    "    text = re.sub(r'\\s+([,.?!\"()\\'])', r'\\1', text) # Joins strings with a space\n",
    "    return text"
   ]
  },
  {
   "cell_type": "code",
   "execution_count": 14,
   "id": "3c0e9f55",
   "metadata": {},
   "outputs": [
    {
     "name": "stdout",
     "output_type": "stream",
     "text": [
      "Token ID:  [1, 56, 2, 850, 988, 602, 533, 746, 5, 1126, 596, 5, 1, 67, 7, 38, 851, 1108, 754, 793, 7]\n",
      "Texts decoded:  \" It' s the last he painted, you know,\" Mrs. Gisburn said with pardonable pride.\n"
     ]
    }
   ],
   "source": [
    "# Trying this class with a small subtext\n",
    "tokenizer = SimpleTokenizerV1(vocab)\n",
    "text = \"\"\"\"It's the last he painted, you know,\"\n",
    " Mrs. Gisburn said with pardonable pride.\"\"\"\n",
    "ids = tokenizer.encode(text)\n",
    "print(\"Token ID: \",ids)\n",
    "print(\"Texts decoded: \", tokenizer.decode(ids))\n",
    "\n",
    "# As this works, trying with a different training set\n",
    "text = \"Hello, do you like tea?\"\n",
    "# print(tokenizer.encode(text))\n",
    "\n",
    "# Error, due to Hello not appearing on the original text"
   ]
  },
  {
   "cell_type": "markdown",
   "id": "19e3f679",
   "metadata": {},
   "source": [
    "We need to make changes to adapt to unknown words, we will modify vocabulary and tokenizers\n",
    "\n",
    "Special tokenizers will handle this\n",
    "\n",
    "We can create a tokenizer which handles unknow words, and another for unrelated texts. The latter helps as if we insert independent texts, they are presented in a single manner, however they are actually unrelated.\n",
    "\n"
   ]
  },
  {
   "cell_type": "code",
   "execution_count": 15,
   "id": "4f15d182",
   "metadata": {},
   "outputs": [
    {
     "name": "stdout",
     "output_type": "stream",
     "text": [
      "1132\n"
     ]
    }
   ],
   "source": [
    "all_tokens = sorted(list(set(preprocessed)))\n",
    "all_tokens.extend([\"<|endoftext|>\", \"<|unk|>\"]) # Adding the two newest tokens\n",
    "vocab = {token:integer for integer,token in enumerate(all_tokens)}\n",
    "print(len(vocab.items()))"
   ]
  },
  {
   "cell_type": "markdown",
   "id": "bac96b76",
   "metadata": {},
   "source": [
    "Therefore we update our current code with some slight changes"
   ]
  },
  {
   "cell_type": "code",
   "execution_count": 16,
   "id": "b590642a",
   "metadata": {},
   "outputs": [],
   "source": [
    "class SimpleTokenizerV2:\n",
    " def __init__(self, vocab):\n",
    "    self.str_to_int = vocab # Maps strings to integers\n",
    "    self.int_to_str = { i:s for s,i in vocab.items()}\n",
    "\n",
    " def encode(self, text):\n",
    "    preprocessed = re.split(r'([,.:;?_!\"()\\']|--|\\s)', text) # Split text by punctuation \n",
    "    preprocessed = [\n",
    "    item.strip() for item in preprocessed if item.strip()  # Removes empty strings and whitespaces  \n",
    "    ]\n",
    "    preprocessed = [item if item in self.str_to_int\n",
    "    else \"<|unk|>\" for item in preprocessed] # Replaces unknown words with unknown tokens\n",
    "    ids = [self.str_to_int[s] for s in preprocessed]\n",
    "    return ids\n",
    "\n",
    " def decode(self, ids):\n",
    "    text = \" \".join([self.int_to_str[i] for i in ids])\n",
    "    text = re.sub(r'\\s+([,.:;?!\"()\\'])', r'\\1', text) # Replaces spaces\n",
    "    return text"
   ]
  },
  {
   "cell_type": "code",
   "execution_count": 17,
   "id": "0942ec4a",
   "metadata": {},
   "outputs": [
    {
     "name": "stdout",
     "output_type": "stream",
     "text": [
      "Hello, do you like tea? <|endoftext|> In the sunlit terraces of the palace.\n"
     ]
    }
   ],
   "source": [
    "# Putting this into practice\n",
    "text1 = \"Hello, do you like tea?\"\n",
    "text2 = \"In the sunlit terraces of the palace.\"\n",
    "text = \" <|endoftext|> \".join((text1, text2))\n",
    "print(text)"
   ]
  },
  {
   "cell_type": "code",
   "execution_count": 18,
   "id": "01775f90",
   "metadata": {},
   "outputs": [
    {
     "name": "stdout",
     "output_type": "stream",
     "text": [
      "[1131, 5, 355, 1126, 628, 975, 10, 1130, 55, 988, 956, 984, 722, 988, 1131, 7]\n"
     ]
    }
   ],
   "source": [
    "tokenizer = SimpleTokenizerV2(vocab)\n",
    "print(tokenizer.encode(text))"
   ]
  },
  {
   "cell_type": "code",
   "execution_count": 19,
   "id": "58ddf000",
   "metadata": {},
   "outputs": [
    {
     "name": "stdout",
     "output_type": "stream",
     "text": [
      "<|unk|>, do you like tea? <|endoftext|> In the sunlit terraces of the <|unk|>.\n"
     ]
    }
   ],
   "source": [
    "print(tokenizer.decode(tokenizer.encode(text)))"
   ]
  },
  {
   "cell_type": "markdown",
   "id": "803146c3",
   "metadata": {},
   "source": [
    "There are other special tokens such as a beginning of sequence, end of sequence or padding.\n",
    "\n",
    "The first two are self explanatory, the latter is used for texts of different size length, these are padded to ensure all have a fixed size\n",
    "\n",
    "However, this can be replaced with masking instead.\n",
    "\n",
    "The unknown token is not used as byte pair encoding is the chosen alternative.\n"
   ]
  },
  {
   "cell_type": "markdown",
   "id": "c9e61d57",
   "metadata": {},
   "source": [
    "To implement BTE we will use a built in library, tiktoken  (https://github.com/openai/tiktoken)"
   ]
  },
  {
   "cell_type": "code",
   "execution_count": 20,
   "id": "00a75c60",
   "metadata": {},
   "outputs": [
    {
     "name": "stdout",
     "output_type": "stream",
     "text": [
      "tiktoken version: 0.9.0\n"
     ]
    }
   ],
   "source": [
    "from importlib.metadata import version\n",
    "import tiktoken\n",
    "print(\"tiktoken version:\", version(\"tiktoken\"))\n"
   ]
  },
  {
   "cell_type": "code",
   "execution_count": null,
   "id": "5ab2bebc",
   "metadata": {},
   "outputs": [
    {
     "name": "stdout",
     "output_type": "stream",
     "text": [
      "Encoded strings:  [15496, 11, 466, 345, 588, 8887, 30, 220, 50256, 554, 262, 4252, 18250, 8812, 2114, 1659, 617, 34680, 27271, 13]\n",
      "Decoded strings:  Hello, do you like tea? <|endoftext|> In the sunlit terracesof someunknownPlace.\n"
     ]
    }
   ],
   "source": [
    "tokenizer = tiktoken.get_encoding(\"gpt2\")\n",
    "\n",
    "text = (\n",
    " \"Hello, do you like tea? <|endoftext|> In the sunlit terraces\"\n",
    " \"of someunknownPlace.\"\n",
    ")\n",
    "integers = tokenizer.encode(text, allowed_special={\"<|endoftext|>\"})\n",
    "print(\"Encoded strings: \",integers)\n",
    "\n",
    "# End of text is given a large number 50256\n",
    "strings = tokenizer.decode(integers)\n",
    "print(\"Decoded strings: \", strings)\n",
    "# someunknownPlace is encoded correctly"
   ]
  },
  {
   "cell_type": "markdown",
   "id": "d4800783",
   "metadata": {},
   "source": [
    "Unknown words are handled by dividing them into separate characters or subwords which are tokenized. As it divides it into individual characters any unknown word can be handled."
   ]
  },
  {
   "cell_type": "code",
   "execution_count": 26,
   "id": "3dd3264c",
   "metadata": {},
   "outputs": [
    {
     "name": "stdout",
     "output_type": "stream",
     "text": [
      "Encoded text:  [33901, 86, 343, 86, 220, 959]\n",
      "Decoded text:  Akwirw ier\n"
     ]
    }
   ],
   "source": [
    "# Brief exercice\n",
    "text = (\"Akwirw ier\")\n",
    "\n",
    "integers1 = tokenizer.encode(text)\n",
    "print(\"Encoded text: \", integers1)\n",
    "\n",
    "strings1 = tokenizer.decode(integers1)\n",
    "print(\"Decoded text: \", strings1)"
   ]
  },
  {
   "cell_type": "markdown",
   "id": "d4218532",
   "metadata": {},
   "source": [
    "BPE , it builds its vocabulary by iteratively merging frequent characters into subwords and frequent subwords into words.\n",
    "\n",
    "These combinations are determined by a frequency algorithm\n",
    "\n",
    "( Similar to the A Priori Algorithm in Associative Learning)"
   ]
  },
  {
   "cell_type": "markdown",
   "id": "eeaa71a5",
   "metadata": {},
   "source": [
    "To start data sampling with a sliding window we will use or current code and our text to start workings"
   ]
  },
  {
   "cell_type": "code",
   "execution_count": null,
   "id": "b6616349",
   "metadata": {},
   "outputs": [
    {
     "name": "stdout",
     "output_type": "stream",
     "text": [
      "5145\n"
     ]
    }
   ],
   "source": [
    "with open(\"the-verdict.txt\", \"r\", encoding=\"utf-8\") as f:\n",
    " raw_text = f.read()\n",
    "enc_text = tokenizer.encode(raw_text)\n",
    "print(len(enc_text))\n",
    "\n",
    "# Removing the first 50 tokens for demonstration purposes\n",
    "enc_sample = enc_text[50:]"
   ]
  },
  {
   "cell_type": "markdown",
   "id": "22d41f68",
   "metadata": {},
   "source": [
    "A way to create this sliding window would be to have two variables x and y.\n",
    "\n",
    "X is the training data and Y the word to predict, which is just the next token"
   ]
  },
  {
   "cell_type": "code",
   "execution_count": 32,
   "id": "cc41f3b9",
   "metadata": {},
   "outputs": [
    {
     "name": "stdout",
     "output_type": "stream",
     "text": [
      "x: [290, 4920, 2241, 287]\n",
      "y: [4920, 2241, 287, 257]\n",
      "[290] ----> 4920\n",
      "[290, 4920] ----> 2241\n",
      "[290, 4920, 2241] ----> 287\n",
      "[290, 4920, 2241, 287] ----> 257\n",
      " and ---->  established\n",
      " and established ---->  himself\n",
      " and established himself ---->  in\n",
      " and established himself in ---->  a\n"
     ]
    }
   ],
   "source": [
    "context_size = 4 # Tokens considered on the input\n",
    "x = enc_sample[:context_size]\n",
    "y = enc_sample[1:context_size+1]\n",
    "print(f\"x: {x}\")\n",
    "print(f\"y: {y}\")\n",
    "\n",
    "# Next word prediction tasks\n",
    "for i in range(1, context_size+1):\n",
    " context = enc_sample[:i]\n",
    " desired = enc_sample[i]\n",
    " print(context, \"---->\", desired)\n",
    "\n",
    "# Repeating the same process as before but with strings \n",
    "for i in range(1, context_size+1):\n",
    " context = enc_sample[:i]\n",
    " desired = enc_sample[i]\n",
    " print(tokenizer.decode(context), \"---->\", tokenizer.decode([desired]))"
   ]
  },
  {
   "cell_type": "markdown",
   "id": "aa88975a",
   "metadata": {},
   "source": [
    "We now need an efficient data loader which handles this and provides tensors.\n",
    "\n",
    "We will use PyTorchs Data Loader and Dataset built in library"
   ]
  },
  {
   "cell_type": "code",
   "execution_count": 36,
   "id": "6c48e4ac",
   "metadata": {},
   "outputs": [],
   "source": [
    "import torch\n",
    "from torch.utils.data import Dataset, DataLoader\n",
    "class GPTDatasetV1(Dataset):\n",
    "    def __init__(self, txt, tokenizer, max_length, stride):\n",
    "        \"\"\"Init method\n",
    "        txt: string input text\n",
    "        tokenizer: turns text into tokens\n",
    "        max_length: int length of each input sentence\n",
    "        stride: step size between chunks, how far to move sliding window\"\"\"\n",
    "\n",
    "        self.input_ids = []\n",
    "        self.target_ids = []\n",
    "        token_ids = tokenizer.encode(txt) # Tokenizes the entire text\n",
    "\n",
    "        for i in range(0, len(token_ids) - max_length, stride): # Uses a sliding window\n",
    "            input_chunk = token_ids[i:i + max_length] # Set of words of max length\n",
    "            target_chunk = token_ids[i + 1: i + max_length + 1] # The next max length\n",
    "            self.input_ids.append(torch.tensor(input_chunk)) # Stored as tensors\n",
    "            self.target_ids.append(torch.tensor(target_chunk))\n",
    "    \n",
    "    def __len__(self):\n",
    "        return len(self.input_ids) # Returns the total number of rows from the dataset\n",
    "    \n",
    "    def __getitem__(self, idx):\n",
    "        return self.input_ids[idx], self.target_ids[idx] # Returns a single row from the dataset"
   ]
  },
  {
   "cell_type": "code",
   "execution_count": 37,
   "id": "90ec16ea",
   "metadata": {},
   "outputs": [],
   "source": [
    "# A data loader to generate batches with input-with pairs\n",
    "def create_dataloader_v1(txt, batch_size=4, max_length=256,\n",
    "    stride=128, shuffle=True, drop_last=True,\n",
    "    num_workers=0):\n",
    "\n",
    "    tokenizer = tiktoken.get_encoding(\"gpt2\") # Tokenized\n",
    "\n",
    "    dataset = GPTDatasetV1(txt, tokenizer, max_length, stride) # Creates dataset\n",
    "\n",
    "    dataloader = DataLoader(\n",
    "    dataset,\n",
    "    batch_size=batch_size,\n",
    "    shuffle=shuffle,\n",
    "    drop_last=drop_last, # True to avoid errors in training\n",
    "    num_workers=num_workers\n",
    "    )\n",
    "    return dataloader"
   ]
  },
  {
   "cell_type": "markdown",
   "id": "65893e63",
   "metadata": {},
   "source": [
    "Testing with different batch sizes, lengths and strides"
   ]
  },
  {
   "cell_type": "code",
   "execution_count": null,
   "id": "f14e586a",
   "metadata": {},
   "outputs": [
    {
     "name": "stdout",
     "output_type": "stream",
     "text": [
      "First batch:  [tensor([[  40,  367, 2885, 1464, 1807, 3619,  402,  271]]), tensor([[  367,  2885,  1464,  1807,  3619,   402,   271, 10899]])]\n",
      "Second batch:  [tensor([[ 2885,  1464,  1807,  3619,   402,   271, 10899,  2138]]), tensor([[ 1464,  1807,  3619,   402,   271, 10899,  2138,   257]])]\n"
     ]
    }
   ],
   "source": [
    "with open(\"the-verdict.txt\", \"r\", encoding=\"utf-8\") as f:\n",
    " raw_text = f.read()\n",
    " \n",
    "dataloader = create_dataloader_v1(\n",
    " raw_text, batch_size=1, max_length=8, stride=2, shuffle=False)\n",
    "data_iter = iter(dataloader) # Object giving oe iter at a time\n",
    "first_batch = next(data_iter) # Obtains next batch from the iterator\n",
    "print(\"First batch: \",first_batch)\n",
    "second_batch = next(data_iter)\n",
    "print(\"Second batch: \", second_batch)\n",
    "# An stride equal to the input prevents overlapping"
   ]
  },
  {
   "cell_type": "markdown",
   "id": "f59a5510",
   "metadata": {},
   "source": [
    "The batch size is a hyperparameter that ought to be tuned as a short batch size is more efficient memory wise, however, they lead to more noisy updates"
   ]
  },
  {
   "cell_type": "markdown",
   "id": "f31cad16",
   "metadata": {},
   "source": [
    "Finally, we have to convert the token ID into embedded vectors.\n",
    "\n",
    "Neural networks need continuous numerical data, thus we use an embedding layer to map each token to a dense vector of fixed size.\n",
    "\n",
    "Embedding matrices are used as lookup tables for this purpose. These are initialized randomly.\n",
    "\n",
    "These embeddings are then trained with backpropagation.\n",
    "\n",
    "As the position of the word is also of high relevance, specific positions in the sequence will matter in the embedding matrices.\n",
    "\n",
    " To achieve this, we can use two broad categories of position-aware embeddings: relative positional embeddings and absolute positional embeddings.\n",
    "\n",
    "The latter gives values based on the position, the first one is for learning relationships based on how far apart the words are."
   ]
  },
  {
   "cell_type": "code",
   "execution_count": 46,
   "id": "383e9bf1",
   "metadata": {},
   "outputs": [
    {
     "name": "stdout",
     "output_type": "stream",
     "text": [
      "Token IDs:\n",
      " tensor([[   40,   367,  2885,  1464],\n",
      "        [ 1807,  3619,   402,   271],\n",
      "        [10899,  2138,   257,  7026],\n",
      "        [15632,   438,  2016,   257],\n",
      "        [  922,  5891,  1576,   438],\n",
      "        [  568,   340,   373,   645],\n",
      "        [ 1049,  5975,   284,   502],\n",
      "        [  284,  3285,   326,    11]])\n",
      "\n",
      "Inputs shape:\n",
      " torch.Size([8, 4])\n"
     ]
    }
   ],
   "source": [
    "vocab_size = 50257 # BPE vocabulary size\n",
    "output_dim = 256 # Dimensions, each token mapped to a 256D vector\n",
    "token_embedding_layer = torch.nn.Embedding(vocab_size, output_dim)\n",
    "\n",
    "\n",
    "max_length = 4\n",
    "dataloader = create_dataloader_v1(\n",
    " raw_text, batch_size=8, max_length=max_length,\n",
    " stride=max_length, shuffle=False\n",
    ")\n",
    "data_iter = iter(dataloader)\n",
    "inputs, targets = next(data_iter)\n",
    "print(\"Token IDs:\\n\", inputs)\n",
    "print(\"\\nInputs shape:\\n\", inputs.shape)"
   ]
  },
  {
   "cell_type": "code",
   "execution_count": null,
   "id": "b2ddd22f",
   "metadata": {},
   "outputs": [
    {
     "name": "stdout",
     "output_type": "stream",
     "text": [
      "torch.Size([8, 4, 256])\n",
      "torch.Size([4, 256])\n"
     ]
    }
   ],
   "source": [
    "# Embedding the tokens into 256D vectors\n",
    "token_embeddings = token_embedding_layer(inputs)\n",
    "print(token_embeddings.shape)\n",
    "\n",
    "# Position embedding, where each token is in the sequence\n",
    "context_length = max_length\n",
    "pos_embedding_layer = torch.nn.Embedding(context_length, output_dim) \n",
    "pos_embeddings = pos_embedding_layer(torch.arange(context_length))\n",
    "print(pos_embeddings.shape)\n",
    "\n",
    "# Adding both together\n",
    "input_embeddings = token_embeddings + pos_embeddings\n",
    "print(input_embeddings.shape)"
   ]
  },
  {
   "attachments": {
    "image.png": {
     "image/png": "[encoded data removed]"
    }
   },
   "cell_type": "markdown",
   "id": "fd927c97",
   "metadata": {},
   "source": [
    "![image.png](attachment:image.png)\n"
   ]
  },
  {
   "cell_type": "markdown",
   "id": "dad59688",
   "metadata": {},
   "source": [
    "**SUMMARY**"
   ]
  },
  {
   "cell_type": "markdown",
   "id": "9cc5e238",
   "metadata": {},
   "source": [
    "LLMs require textual data to be converted into numerical vectors, known as\n",
    "embeddings, since they can’t process raw text. Embeddings transform discrete\n",
    "data (like words or images) into continuous vector spaces, making them compatible with neural network operations.\n",
    "\n",
    " As the first step, raw text is broken into tokens, which can be words or characters.\n",
    "Then, the tokens are converted into integer representations, termed token IDs.\n",
    "\n",
    " Special tokens, such as <|unk|> and <|endoftext|>, can be added to enhance\n",
    "the model’s understanding and handle various contexts, such as unknown\n",
    "words or marking the boundary between unrelated texts.\n",
    "\n",
    " The byte pair encoding (BPE) tokenizer used for LLMs like GPT-2 and GPT-3\n",
    "can efficiently handle unknown words by breaking them down into subword\n",
    "units or individual characters.\n",
    "\n",
    " We use a sliding window approach on tokenized data to generate input–target\n",
    "pairs for LLM training.\n",
    "\n",
    " Embedding layers in PyTorch function as a lookup operation, retrieving vectors\n",
    "corresponding to token IDs. The resulting embedding vectors provide continuous representations of tokens, which is crucial for training deep learning models like LLMs.\n",
    "\n",
    " While token embeddings provide consistent vector representations for each\n",
    "token, they lack a sense of the token’s position in a sequence. To rectify this,\n",
    "two main types of positional embeddings exist: absolute and relative. OpenAI’s\n",
    "GPT models utilize absolute positional embeddings, which are added to the token\n",
    "embedding vectors and are optimized during the model training"
   ]
  }
 ],
 "metadata": {
  "kernelspec": {
   "display_name": "Python 3",
   "language": "python",
   "name": "python3"
  },
  "language_info": {
   "codemirror_mode": {
    "name": "ipython",
    "version": 3
   },
   "file_extension": ".py",
   "mimetype": "text/x-python",
   "name": "python",
   "nbconvert_exporter": "python",
   "pygments_lexer": "ipython3",
   "version": "3.11.0"
  }
 },
 "nbformat": 4,
 "nbformat_minor": 5
}
